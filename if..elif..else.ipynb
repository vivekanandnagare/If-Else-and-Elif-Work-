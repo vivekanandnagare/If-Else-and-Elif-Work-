{
 "cells": [
  {
   "cell_type": "code",
   "execution_count": 1,
   "metadata": {},
   "outputs": [
    {
     "name": "stdout",
     "output_type": "stream",
     "text": [
      "Enter a dish name:pizza\n",
      "Based on my limited knowledge, I don't know which cuisine is pizza\n"
     ]
    }
   ],
   "source": [
    "#Cousine checker. Explains if..elif..else\n",
    "indian=[\"samosa\",\"kachori\",\"dal\",\"naan\"]\n",
    "pakistani=[\"nihari\",\"paya\",\"karahi\"]\n",
    "bangladesi=[\"panta bhat\",\"chorchori\",\"fuchka\"]\n",
    "\n",
    "dish=input(\"Enter a dish name:\")\n",
    "if dish in indian:\n",
    "    print(f\"{dish} is Indian\")\n",
    "elif dish in pakistani:\n",
    "    print(f\"{dish} is pakistani\")\n",
    "elif dish in bangladesi:\n",
    "    print(f\"{dish} is bangladesi\")\n",
    "else:\n",
    "    print(f\"Based on my limited knowledge, I don't know which cuisine is {dish}\")"
   ]
  },
  {
   "cell_type": "code",
   "execution_count": 8,
   "metadata": {},
   "outputs": [
    {
     "name": "stdout",
     "output_type": "stream",
     "text": [
      "enter any cousinsamosa\n",
      "samosa is indain\n"
     ]
    }
   ],
   "source": [
    "indian=[\"samosa\",\"kachori\",\"dal\",\"naan\"]\n",
    "pakistani=[\"nihari\",\"paya\",\"karahi\"]\n",
    "bangladesi=[\"panta bhat\",\"chorchori\",\"fuchka\"]\n",
    "\n",
    "dish=input('enter any cousin')\n",
    "if dish in indian:\n",
    "    print(f'{dish} is indain')\n",
    "elif dish in pakistani:\n",
    "    print(f'{dish} is pakistani')\n",
    "elif dish in banglasesi:\n",
    "    print(f'{dish} is bangladesi')\n",
    "else:\n",
    "    print(f'based on limitted knowledge, i dont know which food is this')"
   ]
  },
  {
   "cell_type": "code",
   "execution_count": 9,
   "metadata": {},
   "outputs": [
    {
     "name": "stdout",
     "output_type": "stream",
     "text": [
      "Enter a number:17\n",
      "Number is odd\n"
     ]
    }
   ],
   "source": [
    "# Ternary operator\n",
    "n=int(input(\"Enter a number:\"))\n",
    "message=\"Number is even\" if n%2==0 else \"Number is odd\"\n",
    "print(message)"
   ]
  },
  {
   "cell_type": "code",
   "execution_count": 13,
   "metadata": {},
   "outputs": [
    {
     "name": "stdout",
     "output_type": "stream",
     "text": [
      "enter any number5\n",
      "number is less\n"
     ]
    }
   ],
   "source": [
    "n=int(input(\"enter any number\"))\n",
    "message=\"number is greater then 30\" if n*10==30 else \"number is less\"\n",
    "print(message)"
   ]
  },
  {
   "cell_type": "code",
   "execution_count": null,
   "metadata": {},
   "outputs": [],
   "source": []
  }
 ],
 "metadata": {
  "kernelspec": {
   "display_name": "Python 3",
   "language": "python",
   "name": "python3"
  },
  "language_info": {
   "codemirror_mode": {
    "name": "ipython",
    "version": 3
   },
   "file_extension": ".py",
   "mimetype": "text/x-python",
   "name": "python",
   "nbconvert_exporter": "python",
   "pygments_lexer": "ipython3",
   "version": "3.8.3"
  }
 },
 "nbformat": 4,
 "nbformat_minor": 4
}
