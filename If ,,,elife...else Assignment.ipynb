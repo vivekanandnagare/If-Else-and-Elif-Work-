{
 "cells": [
  {
   "cell_type": "markdown",
   "metadata": {},
   "source": [
    "# If ,,,elife...else"
   ]
  },
  {
   "cell_type": "code",
   "execution_count": null,
   "metadata": {},
   "outputs": [],
   "source": [
    "#1. Using following list of cities per country,\n",
    "    ```\n",
    "#india = [\"mumbai\", \"banglore\", \"chennai\", \"delhi\"]\n",
    "#pakistan = [\"lahore\",\"karachi\",\"islamabad\"]\n",
    "#bangladesh = [\"dhaka\", \"khulna\", \"rangpur\"]\n",
    "#1. Write a program that asks user to enter a city name and it should tell which country the city belongs to\n",
    "#2Write a program that asks user to enter two cities and it tells you if they both are in same country or not. For example if I enter mumbai and chennai, it will print \"Both cities are in India\" but if I enter mumbai and dhaka it should print \"They don't belong to same country\"\n",
    "\n",
    "#3Write a python program that can tell you if your sugar is normal or not. Normal fasting level sugar range is 80 to 100.\n",
    "#2Ask user to enter his fasting sugar level\n",
    "#1If it is below 80 to 100 range then print that sugar is low\n",
    "#2If it is above 100 then print that it is high otherwise print that it is normal"
   ]
  },
  {
   "cell_type": "code",
   "execution_count": 12,
   "metadata": {},
   "outputs": [
    {
     "name": "stdout",
     "output_type": "stream",
     "text": [
      "enter any city  name mumbai\n",
      "mumbai is indian\n"
     ]
    }
   ],
   "source": [
    "#1. Write a program that asks user to enter a city name and it should tell which country the city belongs to\n",
    "\n",
    "india = [\"mumbai\", \"banglore\", \"chennai\", \"delhi\"]\n",
    "pakistan = [\"lahore\",\"karachi\",\"islamabad\"]\n",
    "bangladesh = [\"dhaka\", \"khulna\", \"rangpur\"]\n",
    "city= input(\"enter any city  name \")\n",
    "if city in india:\n",
    "    print(f'{city} is indian')\n",
    "elif city in pakistan:\n",
    "    print(f'{city} is pakistani')\n",
    "elif city in bangladesh:\n",
    "    print(f'{city} is bangladesh')\n",
    "else:\n",
    "    print(f'Base on limitted knowdege i dont know from which country {city} belongs to')\n"
   ]
  },
  {
   "cell_type": "code",
   "execution_count": 19,
   "metadata": {},
   "outputs": [
    {
     "name": "stdout",
     "output_type": "stream",
     "text": [
      "enter any city  name mumbai\n",
      "enter any city  name dhaka\n",
      "They don't belong to same country\n"
     ]
    }
   ],
   "source": [
    "#Write a program that asks user to enter two cities and it tells you if they both are in same country or not\n",
    "#For example if I enter mumbai and chennai, it will print \"Both cities are in India\" but if I enter mumbai and dhaka it should print \"They don't belong to same country\"\n",
    "\n",
    "city1= input(\"enter any city  name \")\n",
    "city2= input(\"enter any city  name \")\n",
    "if city1 in india and city2 in india:\n",
    "    print(f'{city1} and {city2} Both cities are in India')\n",
    "elif city1 in pakistan and city2 in pakistan:\n",
    "    print(f'{city1} and {city2} Both cities are in pakistan')\n",
    "elif city1 in bangladesh and city2 in bangladesh:\n",
    "    print(f'{city1} and {city2} Both cities are in bangladesh')\n",
    "else:\n",
    "    print(\"They don't belong to same country\")"
   ]
  },
  {
   "cell_type": "code",
   "execution_count": 2,
   "metadata": {},
   "outputs": [
    {
     "name": "stdout",
     "output_type": "stream",
     "text": [
      "enter any value90\n",
      "sugar is normal\n"
     ]
    }
   ],
   "source": [
    "##. Write a python program that can tell you if your sugar is normal or not. Normal fasting level sugar range is 80 to 100\n",
    "i=int(input(\"enter any value\"))\n",
    "if i>80 and i<100:\n",
    "    print(\"sugar is normal\")\n",
    "else:\n",
    "    print(\"sugar is not normal\")"
   ]
  },
  {
   "cell_type": "code",
   "execution_count": 3,
   "metadata": {},
   "outputs": [
    {
     "name": "stdout",
     "output_type": "stream",
     "text": [
      "enter fasting sugar level89\n",
      "89\n"
     ]
    }
   ],
   "source": [
    "#Ask user to enter his fasting sugar level\n",
    "i=int(input(\"enter fasting sugar level\"))\n",
    "print(i)"
   ]
  },
  {
   "cell_type": "code",
   "execution_count": null,
   "metadata": {},
   "outputs": [],
   "source": [
    "#1If it is below 80 to 100 range then print that sugar is low\n",
    "i=int(input(\"enter any value\"))\n",
    "if i>80 and i>100:\n",
    "    print(\"sugar is low\")\n",
    "else:\n",
    "    print(\"sugar is not low\")"
   ]
  },
  {
   "cell_type": "code",
   "execution_count": 3,
   "metadata": {},
   "outputs": [
    {
     "name": "stdout",
     "output_type": "stream",
     "text": [
      "enter any number110\n",
      "high\n"
     ]
    }
   ],
   "source": [
    "#If it is above 100 then print that it is high otherwise print that it is normal\n",
    "i=int(input(\"enter any number\"))\n",
    "if i>100:\n",
    "    print(\"high\")\n",
    "else:\n",
    "    print(\"Normal\")"
   ]
  },
  {
   "cell_type": "code",
   "execution_count": null,
   "metadata": {},
   "outputs": [],
   "source": []
  }
 ],
 "metadata": {
  "kernelspec": {
   "display_name": "Python 3",
   "language": "python",
   "name": "python3"
  },
  "language_info": {
   "codemirror_mode": {
    "name": "ipython",
    "version": 3
   },
   "file_extension": ".py",
   "mimetype": "text/x-python",
   "name": "python",
   "nbconvert_exporter": "python",
   "pygments_lexer": "ipython3",
   "version": "3.8.3"
  }
 },
 "nbformat": 4,
 "nbformat_minor": 4
}
