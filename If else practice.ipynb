{
 "cells": [
  {
   "cell_type": "code",
   "execution_count": 3,
   "metadata": {},
   "outputs": [
    {
     "name": "stdout",
     "output_type": "stream",
     "text": [
      "No kevi not in the tuple\n"
     ]
    }
   ],
   "source": [
    "fruits= (\"apple\",\"banana\",\"cherry\")\n",
    "if \"kevi\" in fruits:\n",
    "     print(\"yes kevi is in the tuple\")\n",
    "else:\n",
    "     print(\"No kevi not in the tuple\")"
   ]
  },
  {
   "cell_type": "code",
   "execution_count": 5,
   "metadata": {},
   "outputs": [
    {
     "name": "stdout",
     "output_type": "stream",
     "text": [
      "Enter a number100\n",
      "Number is even\n"
     ]
    }
   ],
   "source": [
    "n=int(input(\"Enter a number\"))\n",
    "\n",
    "if n%2==0:\n",
    "    print(\"Number is even\")\n",
    "else:\n",
    "    print(\"Number is odd\")"
   ]
  },
  {
   "cell_type": "code",
   "execution_count": null,
   "metadata": {},
   "outputs": [],
   "source": [
    "# Show the execution by debugging\n",
    "# If is called control statement as it controls the flow of code execution\n",
    "\n",
    "# go to idle and explain different operators\n",
    "\n",
    "# ==\n",
    "# !=\n",
    "# >\n",
    "# <\n",
    "# >=\n",
    "# <=\n",
    "#\n",
    "# 3>2 and 4>1\n",
    "# 3>1 or 4>8\n",
    "# not 4==4"
   ]
  },
  {
   "cell_type": "code",
   "execution_count": 8,
   "metadata": {},
   "outputs": [
    {
     "name": "stdout",
     "output_type": "stream",
     "text": [
      "enter any number77\n",
      "number is odd\n"
     ]
    }
   ],
   "source": [
    "n=int(input(\"enter any number\"))\n",
    "if n%2==0:\n",
    "    print(\"number is a even\")\n",
    "else:\n",
    "        print(\"number is odd\")"
   ]
  },
  {
   "cell_type": "code",
   "execution_count": 10,
   "metadata": {},
   "outputs": [
    {
     "name": "stdout",
     "output_type": "stream",
     "text": [
      "enter any number400\n",
      "number is even\n"
     ]
    }
   ],
   "source": [
    "n=int(input(\"enter any number\"))\n",
    "if n%2!=0:\n",
    "    print(\"number is odd\")\n",
    "else:\n",
    "    print(\"number is even\")"
   ]
  },
  {
   "cell_type": "code",
   "execution_count": 12,
   "metadata": {},
   "outputs": [
    {
     "name": "stdout",
     "output_type": "stream",
     "text": [
      "enter any number5\n",
      "number is less than 100\n"
     ]
    }
   ],
   "source": [
    "n=int(input(\"enter any number\"))\n",
    "if n*12>100:\n",
    "    print(\"number is greater than 100\")\n",
    "else:\n",
    "    print(\"number is less than 100\")"
   ]
  },
  {
   "cell_type": "code",
   "execution_count": 14,
   "metadata": {},
   "outputs": [
    {
     "name": "stdout",
     "output_type": "stream",
     "text": [
      "Enter any number5\n",
      "number is less then 100\n"
     ]
    }
   ],
   "source": [
    "n=int(input(\"Enter any number\"))\n",
    "if n*10<100:\n",
    "    print(\"number is less then 100\")\n",
    "else:\n",
    "    print(\"number is greater then 100\")"
   ]
  },
  {
   "cell_type": "code",
   "execution_count": 18,
   "metadata": {},
   "outputs": [
    {
     "name": "stdout",
     "output_type": "stream",
     "text": [
      "enter any number1000\n",
      "number is greater then 50\n"
     ]
    }
   ],
   "source": [
    "n=int(input(\"enter any number\"))\n",
    "if n/10<50:\n",
    "    print(\"number is less then 50\")\n",
    "else:\n",
    "    print(\"number is greater then 50\")"
   ]
  },
  {
   "cell_type": "code",
   "execution_count": 20,
   "metadata": {},
   "outputs": [
    {
     "name": "stdout",
     "output_type": "stream",
     "text": [
      "enter any numer4\n",
      "number is greater or equal to 400\n"
     ]
    }
   ],
   "source": [
    "n=int(input(\"enter any numer\"))\n",
    "if n*100>=400:\n",
    "    print(\"number is greater or equal to 400\")\n",
    "else:\n",
    "    print(\"number is not greater or equal to 400\")"
   ]
  },
  {
   "cell_type": "code",
   "execution_count": 23,
   "metadata": {},
   "outputs": [
    {
     "name": "stdout",
     "output_type": "stream",
     "text": [
      "enter any number500\n",
      "number is not less then or equal to 70\n"
     ]
    }
   ],
   "source": [
    "n=int(input(\"enter any number\"))\n",
    "if n-50<=70:\n",
    "    print(\"number is less then or equal to 70\")\n",
    "else:\n",
    "    print(\"number is not less then or equal to 70\")"
   ]
  },
  {
   "cell_type": "code",
   "execution_count": 4,
   "metadata": {},
   "outputs": [
    {
     "name": "stdout",
     "output_type": "stream",
     "text": [
      "enter any number5\n",
      "number is greater \n"
     ]
    }
   ],
   "source": [
    "# 3>2 and 4>1\n",
    "n=int(input(\"enter any number\"))\n",
    "if 3>2:\n",
    "    print(\"number is greater \")\n",
    "else:\n",
    "    print(\"number is not greater\")"
   ]
  },
  {
   "cell_type": "code",
   "execution_count": 2,
   "metadata": {},
   "outputs": [
    {
     "name": "stdout",
     "output_type": "stream",
     "text": [
      "enter any number4\n",
      "number is not greater\n"
     ]
    }
   ],
   "source": [
    "#3>1 or 4>8\n",
    "n=int(input(\"enter any number\"))\n",
    "if 4>8:\n",
    "    print(\"number is grester\")\n",
    "else:\n",
    "    print(\"number is not greater\")"
   ]
  },
  {
   "cell_type": "code",
   "execution_count": 5,
   "metadata": {},
   "outputs": [
    {
     "name": "stdout",
     "output_type": "stream",
     "text": [
      "enter any number5\n",
      "number is equal\n"
     ]
    }
   ],
   "source": [
    "## not 4==4\n",
    "n=int(input(\"enter any number\"))\n",
    "if 4==4:\n",
    "    print(\"number is equal\")\n",
    "else:\n",
    "    print(\"number is not equal\")\n",
    "    "
   ]
  },
  {
   "cell_type": "code",
   "execution_count": null,
   "metadata": {},
   "outputs": [],
   "source": []
  }
 ],
 "metadata": {
  "kernelspec": {
   "display_name": "Python 3",
   "language": "python",
   "name": "python3"
  },
  "language_info": {
   "codemirror_mode": {
    "name": "ipython",
    "version": 3
   },
   "file_extension": ".py",
   "mimetype": "text/x-python",
   "name": "python",
   "nbconvert_exporter": "python",
   "pygments_lexer": "ipython3",
   "version": "3.8.3"
  }
 },
 "nbformat": 4,
 "nbformat_minor": 4
}
